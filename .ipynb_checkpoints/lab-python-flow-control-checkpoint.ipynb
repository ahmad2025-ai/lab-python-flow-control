{
 "cells": [
  {
   "cell_type": "markdown",
   "id": "d3bfc191-8885-42ee-b0a0-bbab867c6f9f",
   "metadata": {
    "tags": []
   },
   "source": [
    "# Lab | Flow Control"
   ]
  },
  {
   "cell_type": "markdown",
   "id": "3851fcd1-cf98-4653-9c89-e003b7ec9400",
   "metadata": {},
   "source": [
    "## Exercise: Managing Customer Orders Optimized\n",
    "\n",
    "In the last lab, you were starting an online store that sells various products. To ensure smooth operations, you developed a program that manages customer orders and inventory.\n",
    "\n",
    "You did so without using flow control. Let's go a step further and improve this code.\n",
    "\n",
    "Follow the steps below to complete the exercise:\n",
    "\n",
    "1. Look at your code from the lab data structures, and improve repeated code with loops.\n",
    "\n",
    "2. Instead of asking the user to input the name of three products that a customer wants to order, do the following:\n",
    "    \n",
    "    a. Prompt the user to enter the name of a product that a customer wants to order.\n",
    "    \n",
    "    b. Add the product name to the \"customer_orders\" set.\n",
    "    \n",
    "    c. Ask the user if they want to add another product (yes/no).\n",
    "    \n",
    "    d. Continue the loop until the user does not want to add another product.\n",
    "\n",
    "3. Instead of updating the inventory by subtracting 1 from the quantity of each product, only do it for  the products that were ordered (those in \"customer_orders\")."
   ]
  },
  {
   "cell_type": "code",
   "execution_count": 1,
   "id": "beebebca-598c-43a9-aa69-a46e6b0634bb",
   "metadata": {},
   "outputs": [
    {
     "name": "stdin",
     "output_type": "stream",
     "text": [
      "Enter the name of a product that a customer wants to order:  mug\n"
     ]
    },
    {
     "name": "stdout",
     "output_type": "stream",
     "text": [
      "mug has been added to your order.\n"
     ]
    },
    {
     "name": "stdin",
     "output_type": "stream",
     "text": [
      "Do you want to add another product? (yes/no):  yes\n",
      "Enter the name of a product that a customer wants to order:  book\n"
     ]
    },
    {
     "name": "stdout",
     "output_type": "stream",
     "text": [
      "book has been added to your order.\n"
     ]
    },
    {
     "name": "stdin",
     "output_type": "stream",
     "text": [
      "Do you want to add another product? (yes/no):  no\n"
     ]
    },
    {
     "name": "stdout",
     "output_type": "stream",
     "text": [
      "One book has been deducted from the inventory.\n",
      "One mug has been deducted from the inventory.\n",
      "\n",
      "Updated inventory:\n",
      "Book: 9\n",
      "Hat: 15\n",
      "Keychain: 8\n",
      "T-shirt: 5\n",
      "Mug: 2\n"
     ]
    }
   ],
   "source": [
    "# Sample inventory data (for demonstration)\n",
    "inventory = {\n",
    "    \"book\": 10,\n",
    "    \"hat\": 15,\n",
    "    \"keychain\": 8,\n",
    "    \"t-shirt\": 5,\n",
    "    \"mug\": 3\n",
    "}\n",
    "\n",
    "# Set to store customer orders (no duplicates allowed)\n",
    "customer_orders = set()\n",
    "\n",
    "# Step a, b, c, and d: Add products to the customer order\n",
    "while True:\n",
    "    product = input(\"Enter the name of a product that a customer wants to order: \").strip().lower()\n",
    "    # Add the product to the set of customer orders\n",
    "    if product in inventory:  # Ensure the product is in the inventory\n",
    "        customer_orders.add(product)\n",
    "        print(f\"{product} has been added to your order.\")\n",
    "    else:\n",
    "        print(f\"Sorry, we don't have {product} in the inventory.\")\n",
    "\n",
    "    # Ask if the customer wants to add another product\n",
    "    another_product = input(\"Do you want to add another product? (yes/no): \").strip().lower()\n",
    "    if another_product != 'yes':\n",
    "        break\n",
    "\n",
    "# Step to update the inventory based on the customer orders\n",
    "for ordered_product in customer_orders:\n",
    "    if ordered_product in inventory and inventory[ordered_product] > 0:\n",
    "        inventory[ordered_product] -= 1\n",
    "        print(f\"One {ordered_product} has been deducted from the inventory.\")\n",
    "    else:\n",
    "        print(f\"Sorry, {ordered_product} is out of stock or not available.\")\n",
    "\n",
    "# Final inventory state\n",
    "print(\"\\nUpdated inventory:\")\n",
    "for product, quantity in inventory.items():\n",
    "    print(f\"{product.capitalize()}: {quantity}\")\n"
   ]
  },
  {
   "cell_type": "code",
   "execution_count": null,
   "id": "4b65ad18-9031-47c1-b4f7-6f05293b9451",
   "metadata": {},
   "outputs": [],
   "source": []
  }
 ],
 "metadata": {
  "kernelspec": {
   "display_name": "Python 3 (ipykernel)",
   "language": "python",
   "name": "python3"
  },
  "language_info": {
   "codemirror_mode": {
    "name": "ipython",
    "version": 3
   },
   "file_extension": ".py",
   "mimetype": "text/x-python",
   "name": "python",
   "nbconvert_exporter": "python",
   "pygments_lexer": "ipython3",
   "version": "3.12.7"
  }
 },
 "nbformat": 4,
 "nbformat_minor": 5
}
